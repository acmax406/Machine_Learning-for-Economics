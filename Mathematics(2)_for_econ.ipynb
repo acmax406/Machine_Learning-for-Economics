{
 "cells": [
  {
   "cell_type": "markdown",
   "id": "64dc466a",
   "metadata": {},
   "source": [
    "### Implementation of Numpy library\n",
    "### Monte-Carlo Integration\n",
    "In mathematics, Monte Carlo integration is a technique for numerical integration using random numbers. It is a particular Monte Carlo method that numerically computes a definite integral. While other algorithms usually evaluate the integrand at a regular grid, Monte Carlo randomly chooses points at which the integrand is evaluated.This method is particularly useful for higher-dimensional integrals.\n",
    "\n",
    "source: https://en.wikipedia.org/wiki/Monte_Carlo_integration\n",
    "\n",
    "### Law of Large Number\n",
    "In probability theory, the law of large numbers (LLN) is a theorem that describes the result of performing the same experiment a large number of times. According to the law, the average of the results obtained from a large number of trials should be close to the expected value and tends to become closer to the expected value as more trials are performed.\n",
    "\n",
    "source: https://en.wikipedia.org/wiki/Law_of_large_numbers\n",
    "\n",
    "#### Binomial, Geometric, Unifrom, Random Variable"
   ]
  },
  {
   "cell_type": "code",
   "execution_count": 1,
   "id": "f1409da4",
   "metadata": {},
   "outputs": [
    {
     "name": "stdout",
     "output_type": "stream",
     "text": [
      "int32\n"
     ]
    }
   ],
   "source": [
    "import numpy as np\n",
    "b = np.array([0,1,2])\n",
    "print(b.dtype)\n"
   ]
  },
  {
   "cell_type": "code",
   "execution_count": 2,
   "id": "dc776293",
   "metadata": {},
   "outputs": [
    {
     "name": "stdout",
     "output_type": "stream",
     "text": [
      "[[0 1]\n",
      " [2 3]\n",
      " [4 5]]\n",
      "(3, 2)\n"
     ]
    }
   ],
   "source": [
    "a = np.array([[0,1],[2,3],[4,5]])\n",
    "print(a)\n",
    "print(a.shape)"
   ]
  },
  {
   "cell_type": "code",
   "execution_count": 3,
   "id": "5fabc222",
   "metadata": {},
   "outputs": [
    {
     "name": "stdout",
     "output_type": "stream",
     "text": [
      "[[1. 1. 1.]\n",
      " [1. 1. 1.]]\n"
     ]
    }
   ],
   "source": [
    "a = np.ones([2,3])\n",
    "print(a)"
   ]
  },
  {
   "cell_type": "code",
   "execution_count": 4,
   "id": "d9490337",
   "metadata": {},
   "outputs": [
    {
     "data": {
      "text/plain": [
       "2.1666666666666665"
      ]
     },
     "execution_count": 4,
     "metadata": {},
     "output_type": "execute_result"
    }
   ],
   "source": [
    "a = np.array([[0,1],[2,3],[3,4]])\n",
    "np.mean(a)"
   ]
  },
  {
   "cell_type": "code",
   "execution_count": 5,
   "id": "c0fe2e52",
   "metadata": {},
   "outputs": [
    {
     "name": "stdout",
     "output_type": "stream",
     "text": [
      "vstack\n",
      "[[1 2 3]\n",
      " [4 5 6]]\n",
      "hstack--> [1 2 3 4 5 6]\n"
     ]
    }
   ],
   "source": [
    "a = np.array([1,2,3])\n",
    "b = np.array([4,5,6])\n",
    "\n",
    "c = np.vstack([a,b])\n",
    "d = np.hstack([a,b])\n",
    "print('vstack')\n",
    "print(c)\n",
    "print('hstack-->',d)"
   ]
  },
  {
   "cell_type": "code",
   "execution_count": 6,
   "id": "70e7a360",
   "metadata": {},
   "outputs": [],
   "source": [
    "from matplotlib import pyplot as plt\n",
    "\n",
    "x = np.arange(1,30,0.1)\n",
    "y = np.linspace(1,30,100)"
   ]
  },
  {
   "cell_type": "code",
   "execution_count": 7,
   "id": "06a52467",
   "metadata": {},
   "outputs": [
    {
     "name": "stdout",
     "output_type": "stream",
     "text": [
      "[[ 0  1  2  3]\n",
      " [ 4  5  6  7]\n",
      " [ 8  9 10 11]]\n",
      "[[0 1 2 3]\n",
      " [2 2 3 4]]\n"
     ]
    }
   ],
   "source": [
    "data_set = np.array([\n",
    "    [0,1,2,3],\n",
    "    [4,5,6,7],\n",
    "    [8,9,10,11],\n",
    "    [0,1,2,3],\n",
    "    [2,2,3,4]\n",
    "])\n",
    "\n",
    "\n",
    "train,test = data_set[:3,:], data_set[3:,:]\n",
    "print(train)\n",
    "print(test)"
   ]
  },
  {
   "cell_type": "code",
   "execution_count": 8,
   "id": "00878555",
   "metadata": {},
   "outputs": [
    {
     "name": "stdout",
     "output_type": "stream",
     "text": [
      "[ 6 22 38  6 11]\n",
      "[14 18 23 28]\n"
     ]
    }
   ],
   "source": [
    "print(np.sum(data_set,1)) # horizontal addition\n",
    "print(np.sum(data_set,0)) # vertical addition"
   ]
  },
  {
   "cell_type": "code",
   "execution_count": 9,
   "id": "2eae2e0c",
   "metadata": {},
   "outputs": [
    {
     "name": "stdout",
     "output_type": "stream",
     "text": [
      "[2.8 3.6 4.6 5.6]\n"
     ]
    }
   ],
   "source": [
    "print(np.mean(data_set,0))"
   ]
  },
  {
   "cell_type": "code",
   "execution_count": 10,
   "id": "75e24654",
   "metadata": {},
   "outputs": [
    {
     "name": "stdout",
     "output_type": "stream",
     "text": [
      "[[1 2]\n",
      " [3 4]]\n"
     ]
    }
   ],
   "source": [
    "# to reshape the metrics\n",
    "A = np.array([1,2,3,4]).reshape(2,2)\n",
    "print(A)"
   ]
  },
  {
   "cell_type": "code",
   "execution_count": 11,
   "id": "97ba3d6b",
   "metadata": {},
   "outputs": [
    {
     "name": "stdout",
     "output_type": "stream",
     "text": [
      "5\n"
     ]
    }
   ],
   "source": [
    "#used to find the sum of the diagonal elements of a metrics\n",
    "print(np.trace(A))"
   ]
  },
  {
   "cell_type": "code",
   "execution_count": 12,
   "id": "b5c7e55d",
   "metadata": {},
   "outputs": [
    {
     "data": {
      "image/png": "[encoded data removed]",
      "text/plain": [
       "<Figure size 432x288 with 1 Axes>"
      ]
     },
     "metadata": {
      "needs_background": "light"
     },
     "output_type": "display_data"
    }
   ],
   "source": [
    "size = 10**6\n",
    "x = np.random.random(size)\n",
    "x = x.reshape(int(size/10),10)\n",
    "m = np.mean(x,1)\n",
    "plt.hist(m,bins= 30,color='orange')\n",
    "plt.show()\n"
   ]
  },
  {
   "cell_type": "code",
   "execution_count": 13,
   "id": "e55e576b",
   "metadata": {},
   "outputs": [
    {
     "name": "stdout",
     "output_type": "stream",
     "text": [
      "8\n",
      "8\n"
     ]
    }
   ],
   "source": [
    "# dot product of two array\n",
    "a = np.array([1,2])\n",
    "b = np.array([2,3])\n",
    "\n",
    "print(a.dot(b))\n",
    "print(np.dot(a,b))"
   ]
  },
  {
   "cell_type": "code",
   "execution_count": 14,
   "id": "5dce2ce6",
   "metadata": {},
   "outputs": [
    {
     "name": "stdout",
     "output_type": "stream",
     "text": [
      "[[ 1  0]\n",
      " [-2  5]]\n"
     ]
    }
   ],
   "source": [
    "A = np.array([\n",
    "    [1,0],\n",
    "    [-2,5]\n",
    "])\n",
    "print(A)"
   ]
  },
  {
   "cell_type": "code",
   "execution_count": 15,
   "id": "e70313a7",
   "metadata": {},
   "outputs": [
    {
     "name": "stdout",
     "output_type": "stream",
     "text": [
      "5.000000000000001\n"
     ]
    }
   ],
   "source": [
    "# determinant of a matrics\n",
    "print(np.linalg.det(A))"
   ]
  },
  {
   "cell_type": "code",
   "execution_count": 16,
   "id": "0b1be590",
   "metadata": {},
   "outputs": [
    {
     "name": "stdout",
     "output_type": "stream",
     "text": [
      "[[1.00000000e+00 2.77555756e-17]\n",
      " [4.00000000e-01 2.00000000e-01]]\n"
     ]
    }
   ],
   "source": [
    "print(np.linalg.inv(A))"
   ]
  },
  {
   "cell_type": "code",
   "execution_count": 17,
   "id": "5b3fc657",
   "metadata": {},
   "outputs": [
    {
     "name": "stdout",
     "output_type": "stream",
     "text": [
      "[[1.00000000e+00 2.77555756e-17]\n",
      " [0.00000000e+00 1.00000000e+00]]\n"
     ]
    }
   ],
   "source": [
    "# matrix multiplication\n",
    "print(A@np.linalg.inv(A))"
   ]
  },
  {
   "cell_type": "markdown",
   "id": "eabd55be",
   "metadata": {},
   "source": [
    "If A is of order n×n and |A| ≠ 0, then the rank of A = n. If A is of order n×n and |A| = 0, then the rank of A will be less than n."
   ]
  },
  {
   "cell_type": "code",
   "execution_count": 18,
   "id": "89226a39",
   "metadata": {},
   "outputs": [
    {
     "name": "stdout",
     "output_type": "stream",
     "text": [
      "2\n"
     ]
    }
   ],
   "source": [
    "# Rank of a matrics\n",
    "print(np.linalg.matrix_rank(A))"
   ]
  },
  {
   "cell_type": "code",
   "execution_count": 19,
   "id": "617e8c8b",
   "metadata": {},
   "outputs": [
    {
     "name": "stdout",
     "output_type": "stream",
     "text": [
      "[  2   2   3   5   6   6  22  34  98 333]\n",
      "maximum element is--> 333\n",
      "minimum element is --> 2\n",
      "argmax--> 9\n",
      "cumsum--> [  2   4   7  12  18  24  46  80 178 511]\n",
      "cumprod--> [         2          4         12         60        360       2160\n",
      "      47520    1615680  158336640 1186493568]\n"
     ]
    }
   ],
   "source": [
    "# sorting an array\n",
    "a = np.array([34,5,6,2,6,2,3,22,333,98])\n",
    "a.sort()\n",
    "print(a)\n",
    "print('maximum element is-->',a.max())\n",
    "print('minimum element is -->',a.min())\n",
    "\n",
    "#argmax() function returns indices of the max element of the array in a particular axis.\n",
    "print('argmax-->',a.argmax())\n",
    "#cumsum() function is used when we want to compute the cumulative sum of array elements over a given axis\n",
    "print('cumsum-->',a.cumsum())\n",
    "#cumprod() function in NumPy computes the cumulative product of the elements in a given input array over a given axis.\n",
    "print('cumprod-->',a.cumprod())"
   ]
  },
  {
   "cell_type": "code",
   "execution_count": 20,
   "id": "b19b0cb4",
   "metadata": {},
   "outputs": [
    {
     "name": "stdout",
     "output_type": "stream",
     "text": [
      "[0.         1.         1.57079633 3.14159265]\n",
      "[0.00000000e+00 8.41470985e-01 1.00000000e+00 1.22464680e-16]\n",
      "[0.   0.84 1.   0.  ]\n"
     ]
    }
   ],
   "source": [
    "z = np.array([0,1,np.pi/2,np.pi])\n",
    "print(z)\n",
    "\n",
    "print(np.sin(z))\n",
    "print(np.round(np.sin(z),2))"
   ]
  },
  {
   "cell_type": "code",
   "execution_count": 21,
   "id": "799a7f45",
   "metadata": {},
   "outputs": [
    {
     "name": "stdout",
     "output_type": "stream",
     "text": [
      "[0 0 1 1]\n"
     ]
    }
   ],
   "source": [
    "# vectorising a user defined function\n",
    "z = np.array([-1,2,3,9])\n",
    "\n",
    "def f(x):\n",
    "    if x>2:\n",
    "        return 1\n",
    "    else:\n",
    "        return 0\n",
    "f = np.vectorize(f)\n",
    "\n",
    "print(f(z))"
   ]
  },
  {
   "cell_type": "code",
   "execution_count": 22,
   "id": "1223f2e7",
   "metadata": {},
   "outputs": [
    {
     "name": "stdout",
     "output_type": "stream",
     "text": [
      "[ True  True False]\n"
     ]
    }
   ],
   "source": [
    "y = np.array([2,3,1])\n",
    "z = np.array([2,3,0])\n",
    "print(z==y)"
   ]
  },
  {
   "cell_type": "code",
   "execution_count": 23,
   "id": "40945619",
   "metadata": {},
   "outputs": [
    {
     "name": "stdout",
     "output_type": "stream",
     "text": [
      "[2 3]\n"
     ]
    }
   ],
   "source": [
    "print(z[y==z])"
   ]
  },
  {
   "cell_type": "markdown",
   "id": "45b6ea25",
   "metadata": {},
   "source": [
    "$Ax=b$ solve for $x$"
   ]
  },
  {
   "cell_type": "code",
   "execution_count": 24,
   "id": "a3fc8e5b",
   "metadata": {},
   "outputs": [
    {
     "name": "stdout",
     "output_type": "stream",
     "text": [
      "[ 2. -2.  9.]\n",
      "[ 2. -2.  9.]\n"
     ]
    }
   ],
   "source": [
    "A = np.array([\n",
    "    [3,2,0],\n",
    "    [1,-1,0],\n",
    "    [0,5,1]\n",
    "])\n",
    "\n",
    "b= np.array([2,4,-1])\n",
    "x= np.linalg.solve(A,b)\n",
    "print(x)\n",
    "\n",
    "#or___take the inverse of A and dot product with b\n",
    "A = np.linalg.inv(A)\n",
    "x = A.dot(b)\n",
    "print(x)"
   ]
  },
  {
   "cell_type": "code",
   "execution_count": 25,
   "id": "530a5337",
   "metadata": {},
   "outputs": [
    {
     "name": "stdout",
     "output_type": "stream",
     "text": [
      "[1 2 1 ... 1 1 1]\n"
     ]
    },
    {
     "data": {
      "image/png": "[encoded data removed]",
      "text/plain": [
       "<Figure size 432x288 with 1 Axes>"
      ]
     },
     "metadata": {
      "needs_background": "light"
     },
     "output_type": "display_data"
    }
   ],
   "source": [
    "from scipy.stats import geom\n",
    "\n",
    "x = geom.rvs(p=1/2, size=4000 )\n",
    "print(x)\n",
    "plt.hist(x,bins = np.arange(1,11))\n",
    "plt.show()"
   ]
  },
  {
   "cell_type": "code",
   "execution_count": 26,
   "id": "1853cef0",
   "metadata": {},
   "outputs": [
    {
     "name": "stdout",
     "output_type": "stream",
     "text": [
      "[ 1  2  3  4  5  6  7  8  9 10]\n",
      "[0.5        0.25       0.125      0.0625     0.03125    0.015625\n",
      " 0.0078125  0.00390625 0.00195312 0.00097656]\n"
     ]
    }
   ],
   "source": [
    "x = np.arange(1,11)\n",
    "print(x)\n",
    "print(geom.pmf(x,p=0.5))"
   ]
  },
  {
   "cell_type": "markdown",
   "id": "3f6d62c4",
   "metadata": {},
   "source": [
    "*<b> pmf of geom is </b>\n",
    "\n",
    "$ f(k) = (1-p)^{k-1}* p$\n",
    "\n",
    "$(1-0.5)^{1-1}* 0.5+(1-0.5)^{2-1}*0.5+......$"
   ]
  },
  {
   "cell_type": "markdown",
   "id": "3cf344a6",
   "metadata": {},
   "source": [
    "<b>$\\texttt{norm.ppf}$ is the inverse of $\\texttt{'norm.cdf'}$.</b> In the example, it simply returns the value at the <b>97.5% percentile.</b>"
   ]
  },
  {
   "cell_type": "code",
   "execution_count": 27,
   "id": "eaf7724c",
   "metadata": {},
   "outputs": [
    {
     "name": "stdout",
     "output_type": "stream",
     "text": [
      "1.959963984540054\n"
     ]
    }
   ],
   "source": [
    "from scipy.stats import norm\n",
    "print(norm.ppf(0.975)) #ppf= percent point function\n"
   ]
  },
  {
   "cell_type": "code",
   "execution_count": 28,
   "id": "3af930bb",
   "metadata": {},
   "outputs": [
    {
     "name": "stdout",
     "output_type": "stream",
     "text": [
      "0.975\n"
     ]
    }
   ],
   "source": [
    "\n",
    "print(norm.cdf(norm.ppf(0.975)))\n"
   ]
  },
  {
   "cell_type": "code",
   "execution_count": 29,
   "id": "f955fee7",
   "metadata": {},
   "outputs": [
    {
     "data": {
      "image/png": "[encoded data removed]",
      "text/plain": [
       "<Figure size 432x288 with 1 Axes>"
      ]
     },
     "metadata": {
      "needs_background": "light"
     },
     "output_type": "display_data"
    }
   ],
   "source": [
    "x = np.array(['0','1'])\n",
    "p = 0.4\n",
    "probs = np.array([1-p,p])\n",
    "plt.bar(x,probs)\n",
    "plt.show()"
   ]
  },
  {
   "cell_type": "markdown",
   "id": "87fcb1c2",
   "metadata": {},
   "source": [
    "plot the PMF of $ X \\sim Binom(12,\\frac{1}{4})$\n",
    "\n",
    "PMF of binom is:\n",
    "\n",
    "$f(k) = \\binom{n}{k}p^k * (1-p)^{n-k}$\n",
    "\n",
    "where, $k \\in {0,1,2,3,.......}$\n",
    "https://docs.scipy.org/doc/scipy/reference/generated/scipy.stats.binom.html"
   ]
  },
  {
   "cell_type": "code",
   "execution_count": 30,
   "id": "c229af61",
   "metadata": {
    "scrolled": true
   },
   "outputs": [
    {
     "data": {
      "image/png": "[encoded data removed]",
      "text/plain": [
       "<Figure size 432x288 with 1 Axes>"
      ]
     },
     "metadata": {
      "needs_background": "light"
     },
     "output_type": "display_data"
    }
   ],
   "source": [
    "from scipy.stats import binom\n",
    "n = 12\n",
    "p = 1/4\n",
    "\n",
    "x = np.arange(0,13)\n",
    "probs = binom.pmf(x,n,p)\n",
    "\n",
    "plt.bar(x,probs)\n",
    "plt.show()"
   ]
  },
  {
   "cell_type": "markdown",
   "id": "8fd83f1d",
   "metadata": {},
   "source": [
    "Suppose the experiment consist of tossing of a fair coin 100 time. Let X be the number of heads. find $\\Pr(48 \\leq X \\leq 52)$"
   ]
  },
  {
   "cell_type": "code",
   "execution_count": 31,
   "id": "98314d35",
   "metadata": {},
   "outputs": [
    {
     "name": "stdout",
     "output_type": "stream",
     "text": [
      "0.382700586410748\n",
      "0.38270058641074783\n"
     ]
    }
   ],
   "source": [
    "n =100\n",
    "p =0.5\n",
    "# setting the range to the x 48 to 53\n",
    "x = np.arange(48,53)\n",
    "#finding the probability\n",
    "probs = binom.pmf(x, n, p)\n",
    "print(sum(probs))\n",
    "\n",
    "#or\n",
    "\n",
    "print(binom.cdf(52,n,p)- binom.cdf(47,n,p))"
   ]
  },
  {
   "cell_type": "markdown",
   "id": "eb9a6e6e",
   "metadata": {},
   "source": [
    "* cdf : commulative distrbutive function adds the probability till 52 then subtract the probability till 47 and we are getting pretty closed values which we got from the pmf"
   ]
  },
  {
   "cell_type": "markdown",
   "id": "244bcf8f",
   "metadata": {},
   "source": [
    "Plot the PMF of $X \\sim Geom(0.6)$ for value $X$ in the set {1,2,3,....,15}\n",
    "\n",
    "*<b> pmf of geom is </b>\n",
    "\n",
    "$ f(k) = (1-p)^{k-1}* p$\n",
    "\n",
    "where $k \\in {0,1,2,3,....}$"
   ]
  },
  {
   "cell_type": "code",
   "execution_count": 32,
   "id": "3bb0db78",
   "metadata": {},
   "outputs": [
    {
     "data": {
      "image/png": "[encoded data removed]",
      "text/plain": [
       "<Figure size 432x288 with 1 Axes>"
      ]
     },
     "metadata": {
      "needs_background": "light"
     },
     "output_type": "display_data"
    }
   ],
   "source": [
    "x= np.arange(1,16)\n",
    "p= 0.6\n",
    "probs = geom.pmf(x,p)\n",
    "plt.bar(x,probs)\n",
    "plt.show()"
   ]
  },
  {
   "cell_type": "markdown",
   "id": "fc78cb50",
   "metadata": {},
   "source": [
    "Consider $X \\sim Binom(100,0.01)$. find the exact probabilites.\n",
    "* $\\Pr(X=0)$\n",
    "* $\\Pr(X=1)$\n",
    "* $\\Pr(X=2)$\n",
    "\n",
    "also, find the approximate probabilities using Poisson approximation and compare them.\n",
    "\n",
    "https://docs.scipy.org/doc/scipy/reference/generated/scipy.stats.poisson.html"
   ]
  },
  {
   "cell_type": "code",
   "execution_count": 33,
   "id": "d5d76bdc",
   "metadata": {},
   "outputs": [
    {
     "name": "stdout",
     "output_type": "stream",
     "text": [
      "binom_probability--> [0.36603234 0.36972964 0.18486482]\n",
      "poisson_prabability--> [0.36787944 0.36787944 0.18393972]\n"
     ]
    }
   ],
   "source": [
    "from scipy.stats import poisson\n",
    "\n",
    "n = 100\n",
    "p = 0.01\n",
    "lmbda = n*p\n",
    "# x=0,x=1,x=2 therefor we are arranging x as (0,3)\n",
    "x = np.arange(0,3)\n",
    "binom_probs = binom.pmf(x,n,p)\n",
    "# poisson pmf takes two attributes lambda and x\n",
    "pois_probs = poisson.pmf(x,lmbda)\n",
    "\n",
    "print('binom_probability-->',binom_probs)\n",
    "print('poisson_prabability-->',pois_probs)\n"
   ]
  },
  {
   "cell_type": "markdown",
   "id": "ce186cb7",
   "metadata": {},
   "source": [
    "Plot the PDF of $X \\sim \\texttt{Unif(2,5)}$\n",
    "https://docs.scipy.org/doc/scipy/reference/generated/scipy.stats.uniform.html"
   ]
  },
  {
   "cell_type": "code",
   "execution_count": 34,
   "id": "b3dc9a55",
   "metadata": {},
   "outputs": [
    {
     "data": {
      "image/png": "[encoded data removed]",
      "text/plain": [
       "<Figure size 432x288 with 1 Axes>"
      ]
     },
     "metadata": {
      "needs_background": "light"
     },
     "output_type": "display_data"
    }
   ],
   "source": [
    "from scipy.stats import uniform\n",
    "x = np.arange(1,6,0.01)\n",
    "probs = uniform.pdf(x, loc = 2, scale =3)\n",
    "plt.plot(x,probs)\n",
    "plt.show()"
   ]
  },
  {
   "cell_type": "markdown",
   "id": "beee0eff",
   "metadata": {},
   "source": [
    "Suppose $X \\sim Unif(100,200)$, Find \n",
    "* $Pr(X \\leq 125)$\n",
    "* $Pr(X >190)$\n",
    "* find $x$ such that $Pr(X \\leq x) = \\frac{1}{4}$"
   ]
  },
  {
   "cell_type": "code",
   "execution_count": 35,
   "id": "d145dd8a",
   "metadata": {},
   "outputs": [
    {
     "name": "stdout",
     "output_type": "stream",
     "text": [
      "0.25\n",
      "0.09999999999999998\n",
      "125.0\n"
     ]
    }
   ],
   "source": [
    "#first part\n",
    "probs1 = uniform.cdf(125, loc =100, scale =100)\n",
    "print(probs1)\n",
    "#second part\n",
    "probs2 = uniform.sf(190,loc = 100,scale=100)\n",
    "print(probs2)\n",
    "#third part\n",
    "probs3= uniform.ppf(0.25,loc =100,scale =100)\n",
    "print(probs3)\n"
   ]
  },
  {
   "cell_type": "markdown",
   "id": "9a3e6922",
   "metadata": {},
   "source": [
    "Suppose $X \\sim \\mathcal{N}(\\mu =2,\\sigma =4).$\n",
    "* plot the density of $X$ over [-14,18]\n",
    "* Find the probability that $X$ takes value in the interval [-6,10]."
   ]
  },
  {
   "cell_type": "code",
   "execution_count": 36,
   "id": "95afdad9",
   "metadata": {},
   "outputs": [
    {
     "data": {
      "image/png": "[encoded data removed]",
      "text/plain": [
       "<Figure size 432x288 with 1 Axes>"
      ]
     },
     "metadata": {
      "needs_background": "light"
     },
     "output_type": "display_data"
    }
   ],
   "source": [
    "import numpy as np\n",
    "from scipy.stats import norm\n",
    "x = np.arange(-14, 18, 0.01)\n",
    "\n",
    "# loc = mean, scale =variance\n",
    "probs = norm.pdf(x, loc = 2, scale = 4)\n",
    "\n",
    "plt.plot(x, probs)\n",
    "plt.show()"
   ]
  },
  {
   "cell_type": "code",
   "execution_count": 37,
   "id": "19a57a2c",
   "metadata": {},
   "outputs": [
    {
     "name": "stdout",
     "output_type": "stream",
     "text": [
      "0.9544997361036416\n"
     ]
    }
   ],
   "source": [
    "print(norm.cdf(10,2,4) - norm.cdf(-6,2,4))\n"
   ]
  },
  {
   "cell_type": "markdown",
   "id": "a485127b",
   "metadata": {},
   "source": [
    "Suppose we want to generate random sample $\\mathit{U_1,U_2,U_3,......,U_n}$ where $\\mathit{U_i} \\sim \\mathrm{Unif(0,1)}$ and $ n = 10^5.$"
   ]
  },
  {
   "cell_type": "code",
   "execution_count": 38,
   "id": "3140227d",
   "metadata": {},
   "outputs": [
    {
     "data": {
      "image/png": "[encoded data removed]",
      "text/plain": [
       "<Figure size 432x288 with 1 Axes>"
      ]
     },
     "metadata": {
      "needs_background": "light"
     },
     "output_type": "display_data"
    }
   ],
   "source": [
    "n = 10**5\n",
    "u = uniform.rvs(loc =0,scale =1, size =n)\n",
    "plt.hist(u)\n",
    "plt.show()"
   ]
  },
  {
   "cell_type": "markdown",
   "id": "ebd5eb3e",
   "metadata": {},
   "source": [
    "Suppose we want to generate random $\\mathrm{X_1,X_2,.....,X_n}$ where $X_i \\sim F_X$ and \n",
    "\n",
    "$\n",
    "F_X(x) =\n",
    "\\left\\{\n",
    "    \\begin{array}{lr}\n",
    "    x^2 \\mathrm{if 0< x <1}\\\\\n",
    "    0 \\mathrm{if x \\leq 0}\\\\\n",
    "    \\mathrm{1 otherwise}\n",
    "    \\end{array}\n",
    "\\right\\}\n",
    "$"
   ]
  },
  {
   "cell_type": "code",
   "execution_count": 39,
   "id": "6dba5e47",
   "metadata": {},
   "outputs": [
    {
     "data": {
      "image/png": "[encoded data removed]",
      "text/plain": [
       "<Figure size 432x288 with 1 Axes>"
      ]
     },
     "metadata": {
      "needs_background": "light"
     },
     "output_type": "display_data"
    }
   ],
   "source": [
    "x = u**0.5\n",
    "plt.hist(x,bins =40)\n",
    "plt.show()"
   ]
  },
  {
   "cell_type": "markdown",
   "id": "85b9bf08",
   "metadata": {},
   "source": [
    "* Plot the pdfs of $X \\sim \\mathrm{Expo(1)}$ and $Y \\sim \\mathrm{Expo(4).}$\n",
    "* Determine the 90th percentile for random variable $X$ and $Y$.\n",
    "* $\\Pr(1<X<2), Pr(1<Y<2)$"
   ]
  },
  {
   "cell_type": "code",
   "execution_count": 40,
   "id": "3d08aab3",
   "metadata": {},
   "outputs": [
    {
     "data": {
      "image/png": "[encoded data removed]",
      "text/plain": [
       "<Figure size 432x288 with 1 Axes>"
      ]
     },
     "metadata": {
      "needs_background": "light"
     },
     "output_type": "display_data"
    }
   ],
   "source": [
    "from scipy.stats import expon\n",
    "x = np.arange(0,5,0.01)\n",
    "probs1= expon.pdf(x)\n",
    "probs4 = expon.pdf(x,scale =1/4)\n",
    "plt.plot(x,probs1,label =\"Expo(1)\")\n",
    "plt.plot(x,probs4, label = \"Expo(4)\")\n",
    "plt.legend()\n",
    "plt.show()"
   ]
  },
  {
   "cell_type": "code",
   "execution_count": 41,
   "id": "9770c9cf",
   "metadata": {},
   "outputs": [
    {
     "name": "stdout",
     "output_type": "stream",
     "text": [
      "2.302585092994046\n",
      "0.5756462732485115\n"
     ]
    }
   ],
   "source": [
    "#finding 90th percentile\n",
    "print(expon.ppf(0.9))\n",
    "print(expon.ppf(0.9,scale =1/4))"
   ]
  },
  {
   "cell_type": "code",
   "execution_count": 42,
   "id": "533565fb",
   "metadata": {},
   "outputs": [
    {
     "name": "stdout",
     "output_type": "stream",
     "text": [
      "0.23254415793482963\n",
      "0.017980176260831704\n"
     ]
    }
   ],
   "source": [
    "#probabitlity\n",
    "print(expon.cdf(2)- expon.cdf(1))\n",
    "print(expon.cdf(2, scale = 1/4)- expon.cdf(1, scale =1/4))"
   ]
  },
  {
   "cell_type": "markdown",
   "id": "39b6af07",
   "metadata": {},
   "source": [
    "## Monte-Carlo Integration\n",
    "\n",
    "Find the approximate value of the definite integral $\\int_{1}^{10}\\frac{\\ln{x}}{x}dx$ using Monte-Carlo integration."
   ]
  },
  {
   "cell_type": "code",
   "execution_count": 71,
   "id": "c682bd1b",
   "metadata": {},
   "outputs": [
    {
     "name": "stdout",
     "output_type": "stream",
     "text": [
      "2.649397470343464\n"
     ]
    }
   ],
   "source": [
    "import math\n",
    "import random\n",
    "\n",
    "def function(x):\n",
    "    return math.log(x) / x\n",
    "\n",
    "count = 0.0\n",
    "in_area= 0.0\n",
    "\n",
    "while count<1000000:\n",
    "    \n",
    "    x_cord = random.uniform(1,10)\n",
    "    y_cord = random.uniform(0,1/math.e)\n",
    "    \n",
    "    if y_cord < function(x_cord):\n",
    "        in_area +=1\n",
    "        \n",
    "    count +=1\n",
    "#(points under the graph / generated points)*area of box\n",
    "area_box = 9 / math.e\n",
    "#1/e is the mx_value of fn(height of box) * 9 length of the box\n",
    "fn_area = area_box * (in_area/count)\n",
    "# print(in_area/count) * area_box\n",
    "print(fn_area)"
   ]
  },
  {
   "cell_type": "markdown",
   "id": "f1402ee7",
   "metadata": {},
   "source": [
    "Find the approximate value of the definite integral $\\int_{0}^{1}x^2dx$ using Monte-Carlo integration."
   ]
  },
  {
   "cell_type": "code",
   "execution_count": 61,
   "id": "9087f36c",
   "metadata": {},
   "outputs": [
    {
     "name": "stdout",
     "output_type": "stream",
     "text": [
      "0.333625\n"
     ]
    }
   ],
   "source": [
    "def function(x):\n",
    "    return x**2\n",
    "\n",
    "count = 0.0\n",
    "area =0.0\n",
    "while count<1000000:\n",
    "    \n",
    "    x = random.uniform(0,1)\n",
    "    y = random.uniform(0,1)\n",
    "    \n",
    "    if y < function(x):\n",
    "        area = area +1\n",
    "    count= count+1\n",
    "    \n",
    "area_box = 1\n",
    "fn_area = area_box * (area/count)\n",
    "print(fn_area)\n",
    "    "
   ]
  },
  {
   "cell_type": "code",
   "execution_count": 43,
   "id": "a632a5b2",
   "metadata": {},
   "outputs": [
    {
     "data": {
      "image/png": "[encoded data removed]",
      "text/plain": [
       "<Figure size 432x288 with 1 Axes>"
      ]
     },
     "metadata": {
      "needs_background": "light"
     },
     "output_type": "display_data"
    }
   ],
   "source": [
    "n = 400\n",
    "a = np.arange(0,1,0.01)\n",
    "\n",
    "x= uniform.rvs(size= n)\n",
    "y= uniform.rvs(size =n)\n",
    "\n",
    "plt.plot(a, a**2)\n",
    "plt.scatter(x,y, color = 'r', alpha = 0.4)\n",
    "plt.show()\n"
   ]
  },
  {
   "cell_type": "code",
   "execution_count": 44,
   "id": "5ec86904",
   "metadata": {},
   "outputs": [
    {
     "name": "stdout",
     "output_type": "stream",
     "text": [
      "0.3375\n"
     ]
    }
   ],
   "source": [
    "print(np.mean(y <= x**2))"
   ]
  },
  {
   "cell_type": "code",
   "execution_count": 45,
   "id": "3d2b77cc",
   "metadata": {},
   "outputs": [
    {
     "name": "stdout",
     "output_type": "stream",
     "text": [
      "0.33008\n"
     ]
    }
   ],
   "source": [
    "n = 10**5\n",
    "x = uniform.rvs(size = n)\n",
    "y = uniform.rvs(size = n)\n",
    "\n",
    "print(np.mean(y <= x**2))"
   ]
  },
  {
   "cell_type": "markdown",
   "id": "f9c82449",
   "metadata": {},
   "source": [
    "Approximate the value of the following $\\int_{3}^{5} x^2 - sin x dx$ using montecarlo method"
   ]
  },
  {
   "cell_type": "code",
   "execution_count": 75,
   "id": "755e442b",
   "metadata": {},
   "outputs": [
    {
     "name": "stdout",
     "output_type": "stream",
     "text": [
      "33.97150967697777\n"
     ]
    }
   ],
   "source": [
    "#using math libarary\n",
    "\n",
    "def function(x):\n",
    "    return x**2 -math.sin(x)\n",
    "\n",
    "count = 0\n",
    "area = 0\n",
    "\n",
    "y_initial = function(3)\n",
    "y_final = function(5)\n",
    "\n",
    "temp = 0\n",
    "\n",
    "if y_initial< y_final:\n",
    "    temp = y_final\n",
    "else:\n",
    "    temp = y_initial\n",
    "\n",
    "while count< 1000000:\n",
    "    \n",
    "    x_cordinate = random.uniform(3,5)\n",
    "    y_cordinate = random.uniform(0,temp)\n",
    "    \n",
    "    if y_cordinate < function(x_cordinate):\n",
    "        area = area+1\n",
    "    count = count+1\n",
    "\n",
    "area_box = 2 * temp\n",
    "area_fn = area_box * (area/count)\n",
    "print(area_fn)"
   ]
  },
  {
   "cell_type": "code",
   "execution_count": 74,
   "id": "958fae9d",
   "metadata": {},
   "outputs": [
    {
     "name": "stdout",
     "output_type": "stream",
     "text": [
      "33.863440000000004\n"
     ]
    }
   ],
   "source": [
    "#using numpy ans scipy lib\n",
    "x = uniform.rvs(loc = 3, scale =2, size =n)\n",
    "y = uniform.rvs(loc =0, scale = 26, size =n)\n",
    "print(52*np.mean(y <= x**2 -np.sin(x)))"
   ]
  },
  {
   "cell_type": "markdown",
   "id": "88b8c0a1",
   "metadata": {},
   "source": [
    "Estimate the following using Law of Large Numbers:\n",
    "https://en.wikipedia.org/wiki/Law_of_large_numbers\n",
    "* $\\Pr(X \\leq 1) \\mathsf{when  } X \\sim \\mathcal{N}(0,1)$\n",
    "* $\\Pr(X\\leq 1) \\mathsf{when} X \\sim Expo(1)$\n",
    "* $\\mathbb{E}(X) \\mathsf{when} X \\sim \\mathsf{Uniform}(3,5)$"
   ]
  },
  {
   "cell_type": "code",
   "execution_count": 47,
   "id": "a2cd7362",
   "metadata": {},
   "outputs": [
    {
     "name": "stdout",
     "output_type": "stream",
     "text": [
      "0.84239\n"
     ]
    }
   ],
   "source": [
    "n = 10**5\n",
    "x = norm.rvs(size = n)\n",
    "print(np.mean(x <= 1))\n"
   ]
  },
  {
   "cell_type": "code",
   "execution_count": 48,
   "id": "3eff5e5a",
   "metadata": {},
   "outputs": [
    {
     "name": "stdout",
     "output_type": "stream",
     "text": [
      "0.8413447460685429\n"
     ]
    }
   ],
   "source": [
    "print(norm.cdf(1))"
   ]
  },
  {
   "cell_type": "code",
   "execution_count": 49,
   "id": "a41a8228",
   "metadata": {},
   "outputs": [
    {
     "name": "stdout",
     "output_type": "stream",
     "text": [
      "0.63045\n",
      "0.6321205588285577\n"
     ]
    }
   ],
   "source": [
    "x = expon.rvs(size = n)\n",
    "print(np.mean(x <= 1))\n",
    "print(expon.cdf(1))"
   ]
  },
  {
   "cell_type": "code",
   "execution_count": 77,
   "id": "809a1113",
   "metadata": {},
   "outputs": [
    {
     "name": "stdout",
     "output_type": "stream",
     "text": [
      "4.000684329172001\n"
     ]
    }
   ],
   "source": [
    "x = uniform.rvs(loc = 3, scale =2, size = n)\n",
    "print(np.mean(x))"
   ]
  },
  {
   "cell_type": "markdown",
   "id": "69844be5",
   "metadata": {},
   "source": [
    "Suppose $X_1,X_2,X_3,X_4$ are iid $\\text{Unif(0,1)}$. Estimate: $\\Pr(X_1,X_2,X_3,X_4 \\leq 1)$"
   ]
  },
  {
   "cell_type": "code",
   "execution_count": 79,
   "id": "deae4b1f",
   "metadata": {},
   "outputs": [
    {
     "data": {
      "image/png": "[encoded data removed]",
      "text/plain": [
       "<Figure size 432x288 with 1 Axes>"
      ]
     },
     "metadata": {
      "needs_background": "light"
     },
     "output_type": "display_data"
    }
   ],
   "source": [
    "n = 10**5\n",
    "x1 = uniform.rvs(size = n)\n",
    "x2 = uniform.rvs(size = n)\n",
    "x3 = uniform.rvs(size = n)\n",
    "x4 = uniform.rvs(size = n)\n",
    "\n",
    "y = x1+x2+x3+x4\n",
    "plt.hist(y,bins =100)\n",
    "plt.show()"
   ]
  },
  {
   "cell_type": "code",
   "execution_count": 82,
   "id": "022f9783",
   "metadata": {},
   "outputs": [
    {
     "name": "stdout",
     "output_type": "stream",
     "text": [
      "0.04139\n"
     ]
    }
   ],
   "source": [
    "print(np.mean(y<=1))"
   ]
  },
  {
   "cell_type": "markdown",
   "id": "687ae6cb",
   "metadata": {},
   "source": [
    "Suppose $X_1,X_2,.....,X_{100}$ are iid $\\text{Unif(0,1)}$.Find the approximate value of $\\Pr(45 \\leq \\sum{X_i} \\leq 55)$ using \n",
    "* CLT\n",
    "* LLNs"
   ]
  },
  {
   "cell_type": "code",
   "execution_count": 86,
   "id": "dee2751b",
   "metadata": {},
   "outputs": [
    {
     "name": "stdout",
     "output_type": "stream",
     "text": [
      "0.9167354833364496\n"
     ]
    }
   ],
   "source": [
    "#CLT\n",
    "#12**0.5--> [45,55] \n",
    "print(norm.cdf(55, loc = 50, scale = 10/(12**0.5))- norm.cdf(45, loc = 50, scale = 10/(12**0.5)))"
   ]
  },
  {
   "cell_type": "code",
   "execution_count": 88,
   "id": "19ff9d6e",
   "metadata": {},
   "outputs": [
    {
     "name": "stdout",
     "output_type": "stream",
     "text": [
      "0.9203\n"
     ]
    }
   ],
   "source": [
    "#LLN\n",
    "n = 10**6\n",
    "# generating of size n\n",
    "x = uniform.rvs(size = n)\n",
    "# reshaping each experiment and making 100\n",
    "x = x.reshape(100, int(n/100))\n",
    "\n",
    "y = np.sum(x,0)\n",
    "\n",
    "print((np.sum(y<=55)-np.sum(y<45))/(10**4))\n"
   ]
  },
  {
   "cell_type": "markdown",
   "id": "845a1f94",
   "metadata": {},
   "source": [
    "Normal Approximation of Binomial Random variable: if $X \\sim \\text{Binom(n,p)}$, then $X = \\sum_{i =1}^{n} X_i$, where $X_i$s are iid $\\text{Bern(p)}$. Therefore, by CLT, $X\\sim \\mathcal{N}(np,np(1-p))$"
   ]
  },
  {
   "cell_type": "code",
   "execution_count": 92,
   "id": "672b6ff0",
   "metadata": {},
   "outputs": [
    {
     "data": {
      "image/png": "[encoded data removed]",
      "text/plain": [
       "<Figure size 432x288 with 1 Axes>"
      ]
     },
     "metadata": {
      "needs_background": "light"
     },
     "output_type": "display_data"
    }
   ],
   "source": [
    "from scipy.stats import binom, norm\n",
    "p=0.5\n",
    "n = 100\n",
    "x = np.arange(0,101)\n",
    "mu = n*p # mu = mean\n",
    "# varince = npq, where q = (1-p), sigma = sd\n",
    "sigma = (n*p*(1-p))**0.5\n",
    "\n",
    "probs = binom.pmf(x,n,p)\n",
    "plt.bar(x,probs,color='red')\n",
    "plt.plot(x,norm.pdf(x,mu,sigma),color ='green')\n",
    "plt.show()"
   ]
  },
  {
   "cell_type": "markdown",
   "id": "af062335",
   "metadata": {},
   "source": [
    "Continue above queston....Find the exact value of $\\Pr(47 \\leq X \\leq 53)$, and compare it with its approximate value found using normal approximation."
   ]
  },
  {
   "cell_type": "code",
   "execution_count": 94,
   "id": "d3d3feda",
   "metadata": {},
   "outputs": [
    {
     "name": "stdout",
     "output_type": "stream",
     "text": [
      "0.5158815863927084\n",
      "0.5160726955538539\n"
     ]
    }
   ],
   "source": [
    "exact_prob = binom.cdf(53,n,p) - binom.cdf(46,n,p)\n",
    "approx_prob = norm.cdf(53.5,mu,sigma)-norm.cdf(46.5, mu, sigma)\n",
    "\n",
    "print(exact_prob)\n",
    "print(approx_prob)"
   ]
  },
  {
   "cell_type": "markdown",
   "id": "ed90894c",
   "metadata": {},
   "source": [
    "Suppose the experiment consist of rolling a fair dice 100 times. Let $X$ equals number of times you observe a multiple of 3. Answer the following:\n",
    "* what is the exact distribution of $X$\n",
    "* what is the approximate distribution of $X$\n",
    "* Find the exact value of $\\Pr(X \\leq 32)$\n",
    "* Find the approximate value of $\\Pr(X \\leq 32)$ using CLT."
   ]
  },
  {
   "cell_type": "code",
   "execution_count": 96,
   "id": "1e7b39ee",
   "metadata": {},
   "outputs": [
    {
     "name": "stdout",
     "output_type": "stream",
     "text": [
      "0.4344206444343059\n",
      "0.4298418975993335\n"
     ]
    }
   ],
   "source": [
    "n = 100\n",
    "p = 1/3\n",
    "exact_prob= binom.cdf(32,n,p)\n",
    "mu = n*p\n",
    "sigma = (n*p*(1-p))**0.5\n",
    "approx_prob= norm.cdf(32.5,loc = mu, scale =sigma)\n",
    "\n",
    "print(exact_prob)\n",
    "print(approx_prob)\n"
   ]
  },
  {
   "cell_type": "markdown",
   "id": "372cf3c1",
   "metadata": {},
   "source": [
    "Suppose the experiment cosist of rolling a fair dice 100 times. let $X$ equals the sum of the numbers obtained in those 100 rolls.\n",
    "\n",
    "Answer the following:\n",
    "* what is the approximat distribution of $X$\n",
    "* Find the approximate value of $\\Pr(X \\leq 290)$ using CLT.\n",
    "* Find the approximate value of $\\Pr(X \\leq 370)$ using CLT.\n",
    "* Find the approximate value of $\\Pr(X \\leq 290)$ using LLN.\n",
    "* Find the approximate value of $\\Pr(X \\leq 3700)$ using LLN.\n"
   ]
  },
  {
   "cell_type": "code",
   "execution_count": 100,
   "id": "c6f44121",
   "metadata": {},
   "outputs": [
    {
     "name": "stdout",
     "output_type": "stream",
     "text": [
      "0.0002470236504828244\n",
      "0.8849996567674863\n"
     ]
    }
   ],
   "source": [
    "# using CLT\n",
    "x = np.arange(1,7)\n",
    "probs = (1/6)* np.ones(6) # np.ones=[1. 1. 1. 1. 1. 1.]\n",
    "n =100\n",
    "\n",
    "mean_x = sum(x* probs)\n",
    "var_x = sum((x**2)*probs) - (mean_x)**2\n",
    "\n",
    "mu = 100* mean_x\n",
    "sigma = (100*var_x)**0.5\n",
    "\n",
    "print(norm.cdf(290.5, mu, sigma))\n",
    "print(norm.cdf(370.5, mu , sigma))\n"
   ]
  }
 ],
 "metadata": {
  "kernelspec": {
   "display_name": "Python 3 (ipykernel)",
   "language": "python",
   "name": "python3"
  },
  "language_info": {
   "codemirror_mode": {
    "name": "ipython",
    "version": 3
   },
   "file_extension": ".py",
   "mimetype": "text/x-python",
   "name": "python",
   "nbconvert_exporter": "python",
   "pygments_lexer": "ipython3",
   "version": "3.9.12"
  }
 },
 "nbformat": 4,
 "nbformat_minor": 5
}
